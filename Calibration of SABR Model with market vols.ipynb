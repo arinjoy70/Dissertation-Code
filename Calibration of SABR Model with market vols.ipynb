{
 "cells": [
  {
   "cell_type": "code",
   "execution_count": null,
   "metadata": {
    "collapsed": true,
    "deletable": true,
    "editable": true
   },
   "outputs": [],
   "source": [
    "import numpy as np\n",
    "import matplotlib.pyplot as plt\n",
    "from scipy.optimize import curve_fit"
   ]
  },
  {
   "cell_type": "code",
   "execution_count": null,
   "metadata": {
    "collapsed": true,
    "deletable": true,
    "editable": true
   },
   "outputs": [],
   "source": [
    "def main(): \n",
    "    #A good fit can be obtained for any 0<=beta<=1. Often beta=0,1/2 or beta=1\n",
    "    #is choosen, depending on the market.\n",
    "    beta = 0.5\n",
    "    #The current forward price\n",
    "    f =  0.028436364   \n",
    "    #The time to the expiry of the option\n",
    "    t_exp = 5\n",
    "    #The tenor of the option\n",
    "    tenor = 2\n",
    "    #A list of market volatilities at strikes corropsponding to strikes_in_bps below. \n",
    "    sigmas = np.array([0.4040, 0.3541, 0.3218, 0.3107, 0.3048, 0.2975, 0.2923, 0.2873, 0.2870])\n",
    "    #The 'At the money volatility', corrosponding to a strike equal to the current forward price.\n",
    "    atm_sigma = 0.3048\n",
    "    #A list of strikes in bps (=0.0001) corrosponding to volatilites in sigmas\n",
    "    strikes_in_bps = np.array([-150,-100,-50,-25,0,25,50,100,150])\n",
    "    #An inital guess of the parameters alpha, nu and rho.\n",
    "    guess = [0.01, 10,-0.5]\n",
    "    \n",
    "    #calculating the actual strikes from f and strikes_in_bps\n",
    "    strikes = f + strikes_in_bps*0.0001\n",
    "    #Calling the SABR_calibration function defined below to return the parameters.\n",
    "    alpha, nu, rho = SABR_calibration(f, t_exp, atm_sigma, beta, strikes, sigmas, guess)\n",
    "    \n",
    "    #This nextsection of code simply draws a plot.\n",
    "    Ks_in_bps = np.linspace(-150,150,60)\n",
    "    Ks = f + Ks_in_bps*0.0001\n",
    "    vols_from_Ks = SABR_market_vol(Ks,f,t_exp,alpha,beta,nu,rho)\n",
    "    textbox = \"\\n\".join((r\"$\\alpha=$\"+f\"{round(alpha,6)}\",r\"$\\beta=$\"+f\"{beta}\",\n",
    "                        r\"$\\rho=$\"+f\"{round(rho,6)}\", r\"$\\nu=$\"+f\"{round(nu,6)}\"))\n",
    "    fig, ax = plt.subplots()\n",
    "    plt.plot(strikes_in_bps, sigmas, 'x')\n",
    "    plt.plot(Ks_in_bps,vols_from_Ks)\n",
    "    plt.xlabel(\"Strikes in bps\")\n",
    "    plt.ylabel(\"Market volatilities\")\n",
    "    plt.title(f\"{t_exp} year into {tenor} year swaption\")\n",
    "    plt.text(0.6, 0.9, textbox, transform=ax.transAxes, fontsize=10,\n",
    "        verticalalignment='top',bbox=dict(facecolor='white', alpha=0.7))\n",
    "    \n",
    "    #Saving the plot if desired.\n",
    "    #plt.savefig(f\"{t_exp} year into {tenor} year swaption\"+\".png\")"
   ]
  },
  {
   "cell_type": "code",
   "execution_count": null,
   "metadata": {
    "collapsed": true,
    "deletable": true,
    "editable": true
   },
   "outputs": [],
   "source": [
    "def SABR_market_vol(K,f,t_exp,alpha,beta,nu,rho):\n",
    "    '''Given a list of strike prices and SABR parameters, returns what the SABR\n",
    "    model predicts the market volatility to be. Calculated from equations (2.17) \n",
    "    and (2.18) in Hagan, Patrick S., Deep Kumar, Andrew S. Lesniewski, and \n",
    "    Diana E. Woodward \"Managing smile risk.\" The Best of Wilmott 1 (2002): 249-296.\n",
    "    '''\n",
    "    output = np.zeros(len(K))\n",
    "    \n",
    "    for i in range(0,len(K)):\n",
    "        if K[i] == f: #ATM equation in Managing smile risk\n",
    "            part_1 = (1.0 - beta)**2.0*alpha**2.0/(24.0*f**(2.0 - 2.0*beta))\n",
    "            part_2 = rho*beta*alpha*nu/(4.0*f**(1.0 - beta))\n",
    "            part_3 = (2.0 - 3.0*rho**2)*nu**2.0/24.0\n",
    "            \n",
    "            output[i] = (alpha/f**(1 - beta))*(1 + (part_1 + part_2 + part_3)*t_exp )\n",
    "        \n",
    "        else:\n",
    "            logfK = np.log(f/K[i])\n",
    "            fkbpow = (f*K[i])**((1.0 - beta)/2.0)\n",
    "            z = nu*fkbpow*logfK/alpha\n",
    "            xz = np.log((np.sqrt(1.0 - 2.0*rho*z + z**2.0 ) + z - rho)/(1.0-rho))\n",
    "            \n",
    "            part_1 = ((1.0-beta)**2.0)*(alpha**2.0)/(24.0*fkbpow**2.0)\n",
    "            part_2 = (rho*beta*nu*alpha)/(4.0*fkbpow)\n",
    "            part_3 = (2.0-3.0*rho**2)*nu**2.0/24.0\n",
    "            part_4 = ((1.0-beta)**2)*(logfK**2)/24.0\n",
    "            part_5 = ((1.0-beta)**4)*(logfK**4)/1920.0\n",
    "            \n",
    "            output[i] = (alpha*z*(1 + (part_1 + part_2 + part_3)*t_exp ))/(fkbpow*xz*(1 + part_4 + part_5 ))\n",
    "            \n",
    "    return output"
   ]
  },
  {
   "cell_type": "code",
   "execution_count": null,
   "metadata": {
    "collapsed": true,
    "deletable": true,
    "editable": true
   },
   "outputs": [],
   "source": [
    "def atm_sigma_to_alpha(f,t_exp,sigma_atm,beta,nu,rho):\n",
    "    '''Returns alpha given the forward price, the at-the-money volatility, the \n",
    "    time to exirpy (t_exp) and the other parameters in the SABR model by \n",
    "    solving a cubic equation for alpha, equation (2.18) in Hagan, Patrick S., \n",
    "    Deep Kumar, Andrew S. Lesniewski, and Diana E. Woodward. \n",
    "    \"Managing smile risk.\" The Best of Wilmott 1 (2002): 249-296. \n",
    "    '''\n",
    "    #The coeffceints of the polynomial we find the roots of\n",
    "    p_3 = -sigma_atm\n",
    "    p_2 =  (1 + (2-3*rho**2)*nu**2*t_exp/24)/f**(1.-beta)\n",
    "    p_1 = rho*beta*nu*t_exp/(4*f**(2-2*beta))\n",
    "    p_0 = (1-beta)**2*t_exp/(24*f**(3-3*beta))\n",
    "    coeffs = [p_0,p_1,p_2,p_3]\n",
    "    \n",
    "    r = np.roots(coeffs)    #find the roots of the cubic equation\n",
    "    \n",
    "    return r[(r.imag==0) & (r.real>=0)].real.min() "
   ]
  },
  {
   "cell_type": "code",
   "execution_count": null,
   "metadata": {
    "collapsed": true,
    "deletable": true,
    "editable": true
   },
   "outputs": [],
   "source": [
    "def SABR_calibration(f, t_exp, sigma_atm, beta, strikes, vols,guess):\n",
    "    ''' Returns the parameters alpha, nu and rho given a parameter beta, \n",
    "    forward price, a list of market volatilities and corrsponding strike \n",
    "    spread. Instead of doing a regression in all three parameters, this method \n",
    "    calculates alpha when needed from nu and rho. Hence a regression is done \n",
    "    in only two variables.\n",
    "    '''\n",
    "    def func_to_optimize(K,nu,rho):\n",
    "        alpha = atm_sigma_to_alpha(f,t_exp,sigma_atm,beta,nu,rho) #alpha at at-the-the-money vol\n",
    "        return  SABR_market_vol(K,f,t_exp,alpha,beta,nu,rho) # SABR prediction of what market vols are\n",
    "     \n",
    "    popt, pcov = curve_fit(func_to_optimize, strikes, vols, p0 = (guess[1],guess[2]), maxfev=10000) \n",
    "      \n",
    "    nu = popt[0]\n",
    "    rho = popt[1]\n",
    "    alpha = atm_sigma_to_alpha(f,t_exp,sigma_atm,beta,nu,rho)\n",
    "    \n",
    "    return [alpha, nu, rho]"
   ]
  },
  {
   "cell_type": "code",
   "execution_count": null,
   "metadata": {
    "collapsed": true,
    "deletable": true,
    "editable": true
   },
   "outputs": [],
   "source": [
    "if __name__ == \"__main__\": main()"
   ]
  }
 ],
 "metadata": {
  "kernelspec": {
   "display_name": "Python 3",
   "language": "python",
   "name": "python3"
  },
  "language_info": {
   "codemirror_mode": {
    "name": "ipython",
    "version": 3
   },
   "file_extension": ".py",
   "mimetype": "text/x-python",
   "name": "python",
   "nbconvert_exporter": "python",
   "pygments_lexer": "ipython3",
   "version": "3.5.2"
  }
 },
 "nbformat": 4,
 "nbformat_minor": 2
}
